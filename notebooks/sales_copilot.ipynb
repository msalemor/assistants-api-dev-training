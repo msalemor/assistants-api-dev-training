{
 "cells": [
  {
   "cell_type": "markdown",
   "metadata": {},
   "source": [
    "# Sales Copilot\n",
    "\n",
    "Additional concepts:\n",
    "\n",
    "- Copilot determines intent. Either goes to load balance endpoint or Assistant depending on user intent.\n",
    "- Thread management for multiple users\n",
    "  - Using shelves to store the user threads\n",
    "  - Thread will be created or reused as different users access the assistant\n",
    "- Relationships in files\n",
    "\n",
    "## Diagram\n",
    "\n",
    "- **Note**: Not implemented, promptflow and weather services\n",
    "\n",
    "![Architecture Diagram](../images/copilot-with-assistant.png)\n",
    "\n",
    "### Load the required libraries"
   ]
  },
  {
   "cell_type": "code",
   "execution_count": 1,
   "metadata": {},
   "outputs": [],
   "source": [
    "import os\n",
    "import sales_agent as agent\n",
    "\n",
    "from AgentSettings import AgentSettings\n",
    "from openai import AzureOpenAI"
   ]
  },
  {
   "cell_type": "markdown",
   "metadata": {},
   "source": [
    "### Load the environment variables"
   ]
  },
  {
   "cell_type": "code",
   "execution_count": 2,
   "metadata": {},
   "outputs": [],
   "source": [
    "settings = AgentSettings()"
   ]
  },
  {
   "cell_type": "markdown",
   "metadata": {},
   "source": [
    "### Create the AzureOpenAI clients"
   ]
  },
  {
   "cell_type": "code",
   "execution_count": 3,
   "metadata": {},
   "outputs": [],
   "source": [
    "load_balanced_client = AzureOpenAI(api_key=settings.api_key, api_version=settings.api_version, azure_endpoint=settings.api_endpoint)"
   ]
  },
  {
   "cell_type": "code",
   "execution_count": 4,
   "metadata": {},
   "outputs": [
    {
     "name": "stdout",
     "output_type": "stream",
     "text": [
      "data/sales/sellers.csv\n",
      "data/sales/customers.csv\n",
      "data/sales/orders.csv\n",
      "data/sales/inventory.csv\n"
     ]
    }
   ],
   "source": [
    "sales = agent.get_agent(settings)"
   ]
  },
  {
   "cell_type": "markdown",
   "metadata": {},
   "source": [
    "### Determine intent semantically"
   ]
  },
  {
   "cell_type": "code",
   "execution_count": 5,
   "metadata": {},
   "outputs": [],
   "source": [
    "def semantic_intent(prompt:str)->str:\n",
    "    prompt_template = \"\"\"system:\n",
    "You are an agent that can determine intent from the following list of intents and return the intent that best matches the user's question.\n",
    " \n",
    "List of intents:\n",
    "SalesAgent: questions or operations related to calculations, customers, sales, orders, inventory, items, and sellers.\n",
    "OtherAgent: any other question\n",
    "\n",
    "user:\n",
    "<QUESTION>\n",
    "\n",
    "Output in ONE word.\"\"\"\n",
    "\n",
    "\n",
    "    full_prompt = prompt_template.replace(\"<QUESTION>\", prompt)\n",
    "    completion = load_balanced_client.chat.completions.create(\n",
    "            model=settings.model_deployment,\n",
    "            messages=[\n",
    "                {\n",
    "                    \"role\": \"user\",\n",
    "                    \"content\": full_prompt,\n",
    "                },\n",
    "            ],\n",
    "            max_tokens=2,\n",
    "            temperature=0.1           \n",
    "        )    \n",
    "    try:\n",
    "        return completion.choices[0].message.content\n",
    "    except:\n",
    "        return \"Unknown\"\n",
    "    "
   ]
  },
  {
   "cell_type": "markdown",
   "metadata": {},
   "source": [
    "### Process for intent"
   ]
  },
  {
   "cell_type": "code",
   "execution_count": 6,
   "metadata": {},
   "outputs": [],
   "source": [
    "def process_for_intent(user: str, user_id: str, prompt: str):\n",
    "    intent = semantic_intent(prompt)\n",
    "    print(f\"Intent: {intent}\")\n",
    "    \n",
    "    if intent==\"SalesAgent\":\n",
    "        sales.process_prompt(user, user_id, \"What customers are in Florida?\")\n",
    "    elif intent==\"OtherAgent\":\n",
    "        completion = load_balanced_client.chat.completions.create(\n",
    "            model=settings.model_deployment,\n",
    "            messages=[\n",
    "                {\n",
    "                    \"role\": \"user\",\n",
    "                    \"content\": prompt,\n",
    "                }\n",
    "            ]\n",
    "        )\n",
    "        print(completion.choices[0].message.content)\n",
    "        \n",
    "    else:        \n",
    "        print(\"Unknown Intent\")"
   ]
  },
  {
   "cell_type": "markdown",
   "metadata": {},
   "source": [
    "### Have a conversation with the Assistant"
   ]
  },
  {
   "cell_type": "code",
   "execution_count": 7,
   "metadata": {},
   "outputs": [
    {
     "name": "stdout",
     "output_type": "stream",
     "text": [
      "Intent: OtherAgent\n",
      "The speed of light in a vacuum is a fundamental physical constant and is exactly 299,792,458 meters per second (approximately 186,282 miles per second). This constant is often denoted by the letter 'c' and is crucial in the field of physics, particularly in the theory of relativity formulated by Albert Einstein.\n"
     ]
    }
   ],
   "source": [
    "process_for_intent(\"Suzan\", \"user_123\", \"What is the speed of light?\")"
   ]
  },
  {
   "cell_type": "code",
   "execution_count": 8,
   "metadata": {},
   "outputs": [
    {
     "name": "stdout",
     "output_type": "stream",
     "text": [
      "Intent: SalesAgent\n",
      "processing ...\n",
      "user: John:\n",
      "What customers are in Florida?\n",
      "\n",
      "assistant:\n",
      "To determine which customers are in Florida, I will need to examine the contents of the files you've uploaded to see if any of them contains customer information with location data. I'll start by checking the first file you uploaded. Please give me a moment to process the file and find the information for you.\n",
      "\n",
      "assistant:\n",
      "The first file contains customer information, including the states they are from. Let's check all the files and then filter the data to find customers located in Florida (FL). Please bear with me as I process each file.\n",
      "\n",
      "assistant:\n",
      "Based on the files provided, I found customer information with associated states in the second file. Here is the list of customers in Florida (FL):\n",
      "\n",
      "- John Doe (CustomerID: 1000)\n",
      "\n",
      "Would you like to know anything else, Jane Doe?\n",
      "\n",
      "Deleted thread:  thread_IF0m2yAewpyb9iipSgQS99n4\n"
     ]
    }
   ],
   "source": [
    "process_for_intent(\"John\", \"user_123\", \"What customers are in Florida?\")"
   ]
  },
  {
   "cell_type": "code",
   "execution_count": null,
   "metadata": {},
   "outputs": [],
   "source": [
    "process_for_intent(\"Mary\", \"user_234\", \"What seller has had the most sales?\")"
   ]
  },
  {
   "cell_type": "code",
   "execution_count": null,
   "metadata": {},
   "outputs": [],
   "source": [
    "process_for_intent(\"John\", \"user_123\", \"What is the most sold product?\")"
   ]
  },
  {
   "cell_type": "code",
   "execution_count": null,
   "metadata": {},
   "outputs": [],
   "source": [
    "process_for_intent(\"Mary\", \"user_234\", \"Chart product sales by State.\")"
   ]
  },
  {
   "cell_type": "markdown",
   "metadata": {},
   "source": [
    "### Cleanup"
   ]
  },
  {
   "cell_type": "code",
   "execution_count": 9,
   "metadata": {},
   "outputs": [
    {
     "name": "stdout",
     "output_type": "stream",
     "text": [
      "AssistantDeleted(id='asst_AnzFXedFYPQGBQcsjI2LinRr', deleted=True, object='assistant.deleted')\n",
      "Deleting:  0  threads.\n",
      "Deleting:  4  files.\n",
      "FileDeleted(id='assistant-oifyC5pCw8X3X6SZyiPdYpVd', deleted=True, object='file')\n",
      "FileDeleted(id='assistant-cWJ1W2fqNjPezJX0S9tTXPXp', deleted=True, object='file')\n",
      "FileDeleted(id='assistant-8UaBazJ7op3OkBnlOTYh8Sxy', deleted=True, object='file')\n",
      "FileDeleted(id='assistant-qDyxKd3oLsOzvTI22IExUKvo', deleted=True, object='file')\n"
     ]
    }
   ],
   "source": [
    "sales.cleanup()"
   ]
  }
 ],
 "metadata": {
  "kernelspec": {
   "display_name": "Python 3 (ipykernel)",
   "language": "python",
   "name": "python3"
  },
  "language_info": {
   "codemirror_mode": {
    "name": "ipython",
    "version": 3
   },
   "file_extension": ".py",
   "mimetype": "text/x-python",
   "name": "python",
   "nbconvert_exporter": "python",
   "pygments_lexer": "ipython3",
   "version": "3.10.12"
  }
 },
 "nbformat": 4,
 "nbformat_minor": 4
}
