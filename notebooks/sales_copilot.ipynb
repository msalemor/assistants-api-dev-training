{
 "cells": [
  {
   "cell_type": "markdown",
   "metadata": {},
   "source": [
    "# Sales Copilot\n",
    "\n",
    "Additional concepts:\n",
    "\n",
    "- Copilot determines intent. Either goes to load balance endpoint or Assistant depending on user intent.\n",
    "- Thread management for multiple users\n",
    "  - Using shelves to store the user threads\n",
    "  - Thread will be created or reused as different users access the assistant\n",
    "- Relationships in files\n",
    "\n",
    "## Diagram\n",
    "\n",
    "- **Note**: Not implemented, promptflow and weather services\n",
    "\n",
    "![Architecture Diagram](../images/copilot-with-assistant.png)\n",
    "\n",
    "### Load the required libraries"
   ]
  },
  {
   "cell_type": "code",
   "execution_count": null,
   "metadata": {},
   "outputs": [],
   "source": [
    "import os\n",
    "import sales_agent\n",
    "from pathlib import Path\n",
    "\n",
    "from dotenv import load_dotenv\n",
    "from openai import AzureOpenAI\n",
    "from openai.types import FileObject\n"
   ]
  },
  {
   "cell_type": "markdown",
   "metadata": {},
   "source": [
    "### Load the environment variables"
   ]
  },
  {
   "cell_type": "code",
   "execution_count": null,
   "metadata": {},
   "outputs": [],
   "source": [
    "load_dotenv()\n",
    "api_endpoint = os.getenv(\"OPENAI_URI\")\n",
    "api_key = os.getenv(\"OPENAI_KEY\")\n",
    "api_version = os.getenv(\"OPENAI_VERSION\")\n",
    "api_deployment_name = os.getenv(\"OPENAI_GPT_DEPLOYMENT\")\n",
    "email_URI = os.getenv(\"EMAIL_URI\")"
   ]
  },
  {
   "cell_type": "markdown",
   "metadata": {},
   "source": [
    "### Create the AzureOpenAI clients"
   ]
  },
  {
   "cell_type": "code",
   "execution_count": null,
   "metadata": {},
   "outputs": [],
   "source": [
    "load_balanced_client = AzureOpenAI(api_key=api_key, api_version=api_version, azure_endpoint=api_endpoint)"
   ]
  },
  {
   "cell_type": "code",
   "execution_count": null,
   "metadata": {},
   "outputs": [],
   "source": [
    "sales = sales_assistant.get_sales_assistant()"
   ]
  },
  {
   "cell_type": "code",
   "execution_count": null,
   "metadata": {},
   "outputs": [],
   "source": [
    "def semantic_intent(prompt:str)->str:\n",
    "    prompt_template = \"\"\"system:\n",
    "You are an agent that can determine intent from the following list of intents and return the intent that best matches the user's question.\n",
    " \n",
    "List of intents:\n",
    "SalesAgent: questions or operations related to calculations, customers, sales, orders, inventory, items, and sellers.\n",
    "OtherAgent: any other question\n",
    "\n",
    "user:\n",
    "<QUESTION>\n",
    "\n",
    "Output in ONE word.\"\"\"\n",
    "\n",
    "\n",
    "    full_prompt = prompt_template.replace(\"<QUESTION>\", prompt)\n",
    "    completion = load_balanced_client.chat.completions.create(\n",
    "            model=api_deployment_name,\n",
    "            messages=[\n",
    "                {\n",
    "                    \"role\": \"user\",\n",
    "                    \"content\": full_prompt,\n",
    "                },\n",
    "            ],\n",
    "            max_tokens=2,\n",
    "            temperature=0.1           \n",
    "        )    \n",
    "    try:\n",
    "        return completion.choices[0].message.content\n",
    "    except:\n",
    "        return \"Unknown\"\n",
    "    "
   ]
  },
  {
   "cell_type": "markdown",
   "metadata": {},
   "source": [
    "### Go to load balance endpoint or to the Assistant based on intent"
   ]
  },
  {
   "cell_type": "code",
   "execution_count": null,
   "metadata": {},
   "outputs": [],
   "source": [
    "def process_for_intent(user: str, user_id: str, prompt: str):\n",
    "    intent = semantic_intent(prompt)\n",
    "    print(f\"Intent: {intent}\")\n",
    "    \n",
    "    if intent==\"SalesAgent\":\n",
    "        sales.process(user, user_id, \"What customers are in Florida?\")\n",
    "    elif intent==\"OtherAgent\":\n",
    "        completion = load_balanced_client.chat.completions.create(\n",
    "            model=api_deployment_name,\n",
    "            messages=[\n",
    "                {\n",
    "                    \"role\": \"user\",\n",
    "                    \"content\": prompt,\n",
    "                }\n",
    "            ]\n",
    "        )\n",
    "        print(completion.choices[0].message.content)\n",
    "        \n",
    "    else:        \n",
    "        print(\"Unknown Intent\")"
   ]
  },
  {
   "cell_type": "markdown",
   "metadata": {},
   "source": [
    "### Have a conversation with the Assistant"
   ]
  },
  {
   "cell_type": "code",
   "execution_count": null,
   "metadata": {},
   "outputs": [],
   "source": [
    "process_for_intent(\"Suzan\", \"user_123\", \"What is the speed of light?\")"
   ]
  },
  {
   "cell_type": "code",
   "execution_count": null,
   "metadata": {},
   "outputs": [],
   "source": [
    "process_for_intent(\"John\", \"user_123\", \"What customers are in Florida?\")"
   ]
  },
  {
   "cell_type": "code",
   "execution_count": null,
   "metadata": {},
   "outputs": [],
   "source": [
    "process_for_intent(\"Mary\", \"user_234\", \"What seller has had the most sales?\")"
   ]
  },
  {
   "cell_type": "code",
   "execution_count": null,
   "metadata": {},
   "outputs": [],
   "source": [
    "process_for_intent(\"John\", \"user_123\", \"What is the most sold product?\")"
   ]
  },
  {
   "cell_type": "code",
   "execution_count": null,
   "metadata": {},
   "outputs": [],
   "source": [
    "process_for_intent(\"Mary\", \"user_234\", \"Chart product sales by State.\")"
   ]
  },
  {
   "cell_type": "markdown",
   "metadata": {},
   "source": [
    "### Cleanup"
   ]
  },
  {
   "cell_type": "code",
   "execution_count": null,
   "metadata": {},
   "outputs": [],
   "source": [
    "sales.cleanup()"
   ]
  }
 ],
 "metadata": {
  "kernelspec": {
   "display_name": "Python 3 (ipykernel)",
   "language": "python",
   "name": "python3"
  },
  "language_info": {
   "codemirror_mode": {
    "name": "ipython",
    "version": 3
   },
   "file_extension": ".py",
   "mimetype": "text/x-python",
   "name": "python",
   "nbconvert_exporter": "python",
   "pygments_lexer": "ipython3",
   "version": "3.10.12"
  }
 },
 "nbformat": 4,
 "nbformat_minor": 4
}
