{
 "cells": [
  {
   "cell_type": "markdown",
   "metadata": {},
   "source": [
    "# Sales Copilot\n",
    "\n",
    "Additional concepts:\n",
    "\n",
    "- Copilot determines intent. Either goes to load balance endpoint or Assistant depending on user intent.\n",
    "- Thread management for multiple users\n",
    "  - Using shelves to store the user threads\n",
    "  - Thread will be created or reused as different users access the assistant\n",
    "- Relationships in files\n",
    "\n",
    "## Diagram\n",
    "\n",
    "- **Note**: Not implemented, promptflow and weather services\n",
    "\n",
    "![Architecture Diagram](../images/copilot-with-assistant.png)\n",
    "\n",
    "### Load the required libraries"
   ]
  },
  {
   "cell_type": "code",
   "execution_count": 1,
   "metadata": {},
   "outputs": [],
   "source": [
    "import os\n",
    "import sales_agent as agent\n",
    "from pathlib import Path\n",
    "\n",
    "from dotenv import load_dotenv\n",
    "from openai import AzureOpenAI\n",
    "from openai.types import FileObject\n"
   ]
  },
  {
   "cell_type": "markdown",
   "metadata": {},
   "source": [
    "### Load the environment variables"
   ]
  },
  {
   "cell_type": "code",
   "execution_count": 2,
   "metadata": {},
   "outputs": [],
   "source": [
    "load_dotenv()\n",
    "api_endpoint = os.getenv(\"OPENAI_URI\")\n",
    "api_key = os.getenv(\"OPENAI_KEY\")\n",
    "api_version = os.getenv(\"OPENAI_VERSION\")\n",
    "api_deployment_name = os.getenv(\"OPENAI_GPT_DEPLOYMENT\")\n",
    "email_URI = os.getenv(\"EMAIL_URI\")"
   ]
  },
  {
   "cell_type": "markdown",
   "metadata": {},
   "source": [
    "### Create the AzureOpenAI clients"
   ]
  },
  {
   "cell_type": "code",
   "execution_count": 3,
   "metadata": {},
   "outputs": [],
   "source": [
    "load_balanced_client = AzureOpenAI(api_key=api_key, api_version=api_version, azure_endpoint=api_endpoint)"
   ]
  },
  {
   "cell_type": "code",
   "execution_count": 4,
   "metadata": {},
   "outputs": [
    {
     "name": "stdout",
     "output_type": "stream",
     "text": [
      "data/sales/sellers.csv\n",
      "data/sales/customers.csv\n",
      "data/sales/orders.csv\n",
      "data/sales/inventory.csv\n"
     ]
    }
   ],
   "source": [
    "sales = agent.get_sales_agent()"
   ]
  },
  {
   "cell_type": "code",
   "execution_count": 5,
   "metadata": {},
   "outputs": [],
   "source": [
    "def semantic_intent(prompt:str)->str:\n",
    "    prompt_template = \"\"\"system:\n",
    "You are an agent that can determine intent from the following list of intents and return the intent that best matches the user's question.\n",
    " \n",
    "List of intents:\n",
    "SalesAgent: questions or operations related to calculations, customers, sales, orders, inventory, items, and sellers.\n",
    "OtherAgent: any other question\n",
    "\n",
    "user:\n",
    "<QUESTION>\n",
    "\n",
    "Output in ONE word.\"\"\"\n",
    "\n",
    "\n",
    "    full_prompt = prompt_template.replace(\"<QUESTION>\", prompt)\n",
    "    completion = load_balanced_client.chat.completions.create(\n",
    "            model=api_deployment_name,\n",
    "            messages=[\n",
    "                {\n",
    "                    \"role\": \"user\",\n",
    "                    \"content\": full_prompt,\n",
    "                },\n",
    "            ],\n",
    "            max_tokens=2,\n",
    "            temperature=0.1           \n",
    "        )    \n",
    "    try:\n",
    "        return completion.choices[0].message.content\n",
    "    except:\n",
    "        return \"Unknown\"\n",
    "    "
   ]
  },
  {
   "cell_type": "markdown",
   "metadata": {},
   "source": [
    "### Go to load balance endpoint or to the Assistant based on intent"
   ]
  },
  {
   "cell_type": "code",
   "execution_count": 6,
   "metadata": {},
   "outputs": [],
   "source": [
    "def process_for_intent(user: str, user_id: str, prompt: str):\n",
    "    intent = semantic_intent(prompt)\n",
    "    print(f\"Intent: {intent}\")\n",
    "    \n",
    "    if intent==\"SalesAgent\":\n",
    "        sales.process_prompt(user, user_id, \"What customers are in Florida?\")\n",
    "    elif intent==\"OtherAgent\":\n",
    "        completion = load_balanced_client.chat.completions.create(\n",
    "            model=api_deployment_name,\n",
    "            messages=[\n",
    "                {\n",
    "                    \"role\": \"user\",\n",
    "                    \"content\": prompt,\n",
    "                }\n",
    "            ]\n",
    "        )\n",
    "        print(completion.choices[0].message.content)\n",
    "        \n",
    "    else:        \n",
    "        print(\"Unknown Intent\")"
   ]
  },
  {
   "cell_type": "markdown",
   "metadata": {},
   "source": [
    "### Have a conversation with the Assistant"
   ]
  },
  {
   "cell_type": "code",
   "execution_count": 7,
   "metadata": {},
   "outputs": [
    {
     "name": "stdout",
     "output_type": "stream",
     "text": [
      "Intent: OtherAgent\n",
      "The speed of light in a vacuum is a fundamental constant of nature and is one of the most accurately measured quantities in science. It is approximately 299,792,458 meters per second, or about 186,282 miles per second. This value is often represented by the symbol \"c\" in equations, such as Einstein's famous equation E=mc², where E is energy, m is mass, and c is the speed of light in a vacuum.\n"
     ]
    }
   ],
   "source": [
    "process_for_intent(\"Suzan\", \"user_123\", \"What is the speed of light?\")"
   ]
  },
  {
   "cell_type": "code",
   "execution_count": 8,
   "metadata": {},
   "outputs": [
    {
     "name": "stdout",
     "output_type": "stream",
     "text": [
      "Intent: SalesAgent\n",
      "processing ...\n",
      "user: John:\n",
      "What customers are in Florida?\n",
      "\n",
      "assistant:\n",
      "To assist you in identifying customers located in Florida, I'll need to examine the contents of the files you uploaded. Let's start by inspecting these files to determine whether they contain customer data and if so, whether the data includes location information such as the state. I will then filter the information to identify customers in Florida. Please hold on while I process the files.\n",
      "\n",
      "assistant:\n",
      "It appears that the data frames generated from the files do not contain a column labeled 'State' or the files provided might not have been in a readable spreadsheet format. To continue assisting you, I'll try a different approach by inspecting the raw content of the files to search for location information that might indicate customers in Florida. Please hold on while I process the files again.\n",
      "\n",
      "assistant:\n",
      "The analysis indicates that the name \"John Doe\" is associated with a location information pattern that might imply a Florida connection. However, the available data is inconclusive as it does not explicitly state \"Florida\" within the location detail. Therefore, we cannot accurately confirm if any of the customers are in Florida based on the current dataset.\n",
      "\n",
      "If the files contain more structured data on customer locations, I may need to try a different method of extraction. Please let me know if you can provide more context or specific details about where in the files I should look for this information or if there is another way I can assist you.\n",
      "\n",
      "Deleted thread:  thread_iWiDn0LsLHmrWogauhgdjGdN\n"
     ]
    }
   ],
   "source": [
    "process_for_intent(\"John\", \"user_123\", \"What customers are in Florida?\")"
   ]
  },
  {
   "cell_type": "code",
   "execution_count": null,
   "metadata": {},
   "outputs": [],
   "source": [
    "process_for_intent(\"Mary\", \"user_234\", \"What seller has had the most sales?\")"
   ]
  },
  {
   "cell_type": "code",
   "execution_count": null,
   "metadata": {},
   "outputs": [],
   "source": [
    "process_for_intent(\"John\", \"user_123\", \"What is the most sold product?\")"
   ]
  },
  {
   "cell_type": "code",
   "execution_count": null,
   "metadata": {},
   "outputs": [],
   "source": [
    "process_for_intent(\"Mary\", \"user_234\", \"Chart product sales by State.\")"
   ]
  },
  {
   "cell_type": "markdown",
   "metadata": {},
   "source": [
    "### Cleanup"
   ]
  },
  {
   "cell_type": "code",
   "execution_count": 9,
   "metadata": {},
   "outputs": [
    {
     "name": "stdout",
     "output_type": "stream",
     "text": [
      "AssistantDeleted(id='asst_BfLpf9dagtmvf2JEarUylA7J', deleted=True, object='assistant.deleted')\n",
      "Deleting:  0  threads.\n",
      "Deleting:  4  files.\n",
      "FileDeleted(id='assistant-2vfOqXosQOllazKZJ6C4DFvs', deleted=True, object='file')\n",
      "FileDeleted(id='assistant-qJ5sVkZxZvmG4a0A0ImmFW6z', deleted=True, object='file')\n",
      "FileDeleted(id='assistant-h1d5jFTO2xnuqAol3RquMRbh', deleted=True, object='file')\n",
      "FileDeleted(id='assistant-xNoSaC2JQqK0iEkcB99lB4Ev', deleted=True, object='file')\n"
     ]
    }
   ],
   "source": [
    "sales.cleanup()"
   ]
  }
 ],
 "metadata": {
  "kernelspec": {
   "display_name": "Python 3 (ipykernel)",
   "language": "python",
   "name": "python3"
  },
  "language_info": {
   "codemirror_mode": {
    "name": "ipython",
    "version": 3
   },
   "file_extension": ".py",
   "mimetype": "text/x-python",
   "name": "python",
   "nbconvert_exporter": "python",
   "pygments_lexer": "ipython3",
   "version": "3.10.12"
  }
 },
 "nbformat": 4,
 "nbformat_minor": 4
}
