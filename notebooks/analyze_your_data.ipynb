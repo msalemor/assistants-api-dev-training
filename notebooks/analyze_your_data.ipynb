{
 "cells": [
  {
   "cell_type": "code",
   "execution_count": 1,
   "metadata": {},
   "outputs": [],
   "source": [
    "import time\n",
    "import requests\n",
    "from datetime import datetime\n",
    "import os\n",
    "import io\n",
    "import html\n",
    "\n",
    "from openai import AzureOpenAI\n",
    "from openai.types.beta.threads.message_content_text import MessageContentText\n",
    "from openai.types.beta.threads.message_content_image_file import MessageContentImageFile\n",
    "\n",
    "import yfinance as yf\n",
    "from PIL import Image\n",
    "from dotenv import load_dotenv"
   ]
  },
  {
   "cell_type": "code",
   "execution_count": 2,
   "metadata": {},
   "outputs": [],
   "source": [
    "load_dotenv()\n",
    "api_endpoint = os.getenv(\"OPENAI_URI\")\n",
    "api_key = os.getenv(\"OPENAI_KEY\")\n",
    "api_version = os.getenv(\"OPENAI_VERSION\")\n",
    "api_deployment_name = os.getenv(\"OPENAI_GPT_DEPLOYMENT\")\n",
    "email_URI = os.getenv(\"EMAIL_URI\")"
   ]
  },
  {
   "cell_type": "code",
   "execution_count": 3,
   "metadata": {},
   "outputs": [],
   "source": [
    "client = AzureOpenAI(api_key=api_key,\n",
    "        api_version=api_version,\n",
    "        azure_endpoint=api_endpoint)"
   ]
  },
  {
   "cell_type": "code",
   "execution_count": 4,
   "metadata": {},
   "outputs": [],
   "source": [
    "def get_stock_price(symbol: str) -> float:\n",
    "    stock = yf.Ticker(symbol)\n",
    "    price = stock.history(period=\"1d\")['Close'].iloc[-1]\n",
    "    return price"
   ]
  },
  {
   "cell_type": "code",
   "execution_count": 5,
   "metadata": {},
   "outputs": [],
   "source": [
    "def send_logic_apps_email(to: str, content: str):\n",
    "    json_payload = {'to': to, 'content': html.unescape(content)}\n",
    "    headers = {'Content-Type': 'application/json'}\n",
    "    response = requests.post(email_URI, json=json_payload, headers=headers)\n",
    "    if response.status_code == 202:\n",
    "        print(\"Email sent to: \" + json_payload['to'])"
   ]
  },
  {
   "cell_type": "code",
   "execution_count": 7,
   "metadata": {},
   "outputs": [],
   "source": [
    "tools_list = [\n",
    "{\"type\": \"code_interpreter\"},\n",
    "{\"type\": \"function\",\n",
    "    \"function\": {\n",
    "\n",
    "        \"name\": \"get_stock_price\",\n",
    "        \"description\": \"Retrieve the latest closing price of a stock using its ticker symbol.\",\n",
    "        \"parameters\": {\n",
    "            \"type\": \"object\",\n",
    "            \"properties\": {\n",
    "                \"symbol\": {\n",
    "                    \"type\": \"string\",\n",
    "                    \"description\": \"The ticker symbol of the stock\"\n",
    "                }\n",
    "            },\n",
    "            \"required\": [\"symbol\"]\n",
    "        }\n",
    "    }\n",
    "},\n",
    "{\n",
    "    \"type\": \"function\",\n",
    "    \"function\": {\n",
    "        \"name\": \"send_email\",\n",
    "        \"description\": \"Sends an email to a recipient(s).\",\n",
    "        \"parameters\": {\n",
    "            \"type\": \"object\",\n",
    "            \"properties\": {\n",
    "                \"to\": {\n",
    "                    \"type\": \"string\",\n",
    "                    \"description\": \"The email(s) the email should be sent to.\"\n",
    "                },\n",
    "                \"content\": {\n",
    "                    \"type\": \"string\",\n",
    "                    \"description\": \"The content of the email.\"\n",
    "                }\n",
    "            },\n",
    "            \"required\": [\"to\", \"content\"]\n",
    "        }\n",
    "    }\n",
    "}]"
   ]
  },
  {
   "cell_type": "code",
   "execution_count": 8,
   "metadata": {},
   "outputs": [
    {
     "data": {
      "text/plain": [
       "['assistant-nsDnl1qtDJ0srL9q7Jq2Zjm1']"
      ]
     },
     "execution_count": 8,
     "metadata": {},
     "output_type": "execute_result"
    }
   ],
   "source": [
    "DATA_FOLDER = \"data/banking/\"\n",
    "def upload_file(client, path):\n",
    "    file = client.files.create(file=open(path, \"rb\"), purpose=\"assistants\")\n",
    "    return file\n",
    "\n",
    "arr = os.listdir(DATA_FOLDER)\n",
    "assistant_files = []\n",
    "for file in arr:\n",
    "    filePath =  DATA_FOLDER + file\n",
    "    assistant_files.append(upload_file(client, filePath))\n",
    "\n",
    "file_ids = [file.id for file in assistant_files]\n",
    "file_ids"
   ]
  },
  {
   "cell_type": "code",
   "execution_count": 13,
   "metadata": {},
   "outputs": [],
   "source": [
    "assistant = client.beta.assistants.create(\n",
    "    name=\"Failed Banks Assistant\",\n",
    "    instructions=\"You are an assistant that can help analyze the provided data. \" +\n",
    "    \"You can provide calculations, visualizations, and other insights to help the user understand the data.\",\n",
    "    tools=tools_list, \n",
    "    model=api_deployment_name,\n",
    "    file_ids=file_ids\n",
    ")\n",
    "\n",
    "thread = client.beta.threads.create()"
   ]
  },
  {
   "cell_type": "code",
   "execution_count": 9,
   "metadata": {},
   "outputs": [],
   "source": [
    "def call_functions(client, thread, run):\n",
    "    print(\"Function Calling\")\n",
    "    required_actions = run.required_action.submit_tool_outputs.model_dump()\n",
    "    print(required_actions)\n",
    "    tool_outputs = []\n",
    "    import json\n",
    "    for action in required_actions[\"tool_calls\"]:\n",
    "        func_name = action['function']['name']\n",
    "        arguments = json.loads(action['function']['arguments'])\n",
    "        \n",
    "        if func_name == \"get_stock_price\":\n",
    "            output = get_stock_price(symbol=arguments['symbol'])\n",
    "            tool_outputs.append({\n",
    "                \"tool_call_id\": action['id'],\n",
    "                \"output\": output\n",
    "            })\n",
    "        elif func_name == \"send_email\":\n",
    "            print(\"Sending email...\")\n",
    "            email_to = arguments['to']\n",
    "            email_content = arguments['content']\n",
    "            send_logic_apps_email(email_to,email_content)\n",
    "            \n",
    "            tool_outputs.append({\n",
    "                \"tool_call_id\": action['id'],\n",
    "                \"output\": \"Email sent\"\n",
    "            })\n",
    "        else:\n",
    "            raise ValueError(f\"Unknown function: {func_name}\")\n",
    "        \n",
    "    print(\"Submitting outputs back to the Assistant...\")\n",
    "    client.beta.threads.runs.submit_tool_outputs(\n",
    "        thread_id=thread.id,\n",
    "        run_id=run.id,\n",
    "        tool_outputs=tool_outputs\n",
    "    )"
   ]
  },
  {
   "cell_type": "code",
   "execution_count": 10,
   "metadata": {},
   "outputs": [],
   "source": [
    "def format_messages(messages):\n",
    "    message_list = []\n",
    "\n",
    "    # Get all the messages till the last user message\n",
    "    for message in messages:\n",
    "        message_list.append(message)\n",
    "        if message.role == \"user\":\n",
    "            break\n",
    "\n",
    "    # Reverse the messages to show the last user message first\n",
    "    message_list.reverse()\n",
    "\n",
    "    # Print the user or Assistant messages or images\n",
    "    for message in message_list:                \n",
    "        for item in message.content:\n",
    "            # Determine the content type\n",
    "            if isinstance(item, MessageContentText):\n",
    "                print(f'{message.role}:\\n{item.text.value}\\n')\n",
    "                file_annotations = item.text.annotations\n",
    "            elif isinstance(item, MessageContentImageFile):\n",
    "                # Retrieve image from file id\n",
    "                response_content = client.files.content(item.image_file.file_id)\n",
    "                data_in_bytes = response_content.read()\n",
    "                # Convert bytes to image\n",
    "                readable_buffer = io.BytesIO(data_in_bytes)\n",
    "                image = Image.open(readable_buffer)\n",
    "                # Resize image to fit in terminal\n",
    "                width, height = image.size\n",
    "                image = image.resize((width //2, height //2), Image.LANCZOS)\n",
    "                # Display image\n",
    "                image.show()"
   ]
  },
  {
   "cell_type": "code",
   "execution_count": 11,
   "metadata": {},
   "outputs": [],
   "source": [
    "def process_message(content:str):\n",
    "    message = client.beta.threads.messages.create(\n",
    "        thread_id=thread.id,\n",
    "        role=\"user\",\n",
    "        content=content\n",
    "    )\n",
    "\n",
    "    run = client.beta.threads.runs.create(\n",
    "        thread_id=thread.id,\n",
    "        assistant_id=assistant.id,\n",
    "        instructions=\"The current date and time is: \" + datetime.now().strftime(\"%x %X\") + \".\"\n",
    "    )\n",
    "    \n",
    "    print(\"processing...\")\n",
    "    while True:\n",
    "        run = client.beta.threads.runs.retrieve(thread_id=thread.id, run_id=run.id)\n",
    "        if run.status == \"completed\":\n",
    "            messages = client.beta.threads.messages.list(thread_id=thread.id)\n",
    "            format_messages(messages)\n",
    "            break\n",
    "        elif run.status == \"failed\":\n",
    "            messages = client.beta.threads.messages.list(thread_id=thread.id)\n",
    "            format_messages(messages)\n",
    "            # Handle failed\n",
    "            break\n",
    "        elif run.status == \"expired\":\n",
    "            # Handle expired\n",
    "            break\n",
    "        elif run.status == \"cancelled\":\n",
    "            # Handle cancelled\n",
    "            break\n",
    "        elif run.status == \"requires_action\":\n",
    "            call_functions(client, thread, run)\n",
    "        else:            \n",
    "            time.sleep(5)"
   ]
  },
  {
   "cell_type": "code",
   "execution_count": 14,
   "metadata": {},
   "outputs": [
    {
     "name": "stdout",
     "output_type": "stream",
     "text": [
      "processing...\n",
      "user:\n",
      "What State had the most bank failures?\n",
      "\n",
      "assistant:\n",
      "To answer your question about which state had the most bank failures, I need to analyze the uploaded file. First, I'll take a look at the contents of the file you've uploaded to understand its structure and format. With this information, I'll be able to proceed with finding the state with the most bank failures. Let me start by examining the file.\n",
      "\n",
      "assistant:\n",
      "It appears that the uploaded file does not have a file extension, which makes it harder to infer the file type directly. Without the file extension, I will attempt to open the file as a text file first, as this is a common case. If the file is not a text file, I'll investigate further for other common file formats such as CSV or Excel. Let's proceed by reading the content as text to see if we can get some insights into its structure.\n",
      "\n",
      "assistant:\n",
      "There was no output from the attempt to read the file as a text file, which could indicate that the file may be empty or in a binary format such as Excel or a database file. To further investigate, I will attempt to read the file with a more robust approach that handles binary formats, starting with the assumption that it could be an Excel file, which is commonly used for data such as bank failures.\n",
      "\n",
      "Let me check if it's an Excel file by trying to read it with `pandas`, which can handle multiple file formats including CSV and Excel.\n",
      "\n",
      "assistant:\n",
      "It appears that the file cannot be read as either an Excel or a CSV file, as both attempts resulted in errors. The error messages indicate that the Excel file format could not be determined and the file could not be decoded using the 'utf-8' codec, which suggests it might not be a text file.\n",
      "\n",
      "To proceed, I will try reading the file as a binary file and check the initial bytes to see if it matches common file signatures (also known as \"magic numbers\") for well-known formats. This may help us identify the file type so that we can read it appropriately. Let's inspect the binary content of the file.\n",
      "\n",
      "assistant:\n",
      "The first four bytes of the file spell out the word \"Bank,\" which suggests this might be a plain text file or a file with custom formatting that begins with the word \"Bank.\" Given this clue, let's return to our previous attempt to read it as a text file, but this time we will try to read beyond the first few lines to see if we can discern more about its structure.\n",
      "\n",
      "Let's try reading a larger portion of the file as text again.\n",
      "\n",
      "assistant:\n",
      "It seems that the attempt to read the file as text was successful this time, but the output is not displayed here. To get a better view of the content, I will output a snippet of the text so we can determine how to proceed with locating the information about the state with the most bank failures. Let's take a look at a portion of the text content.\n",
      "\n",
      "assistant:\n",
      "The snippet of content from the file suggests that it is in CSV (Comma-Separated Values) format. The first line appears to be the header row, with fields for \"Bank Name,\" \"City,\" \"State,\" \"Cert,\" \"Acquiring Institution,\" \"Closing Date,\" and \"Fund.\" The subsequent lines contain information on various bank failures including the state of each bank.\n",
      "\n",
      "To find out which state had the most bank failures, I will now load the entire content of this text file into a pandas DataFrame, which will allow us to perform the necessary data aggregation to answer your question. Let's go ahead and process the file as a CSV and calculate the state with the most bank failures.\n",
      "\n",
      "assistant:\n",
      "The attempt to read the file as a CSV encountered a Unicode decode error, which means the file likely contains non-UTF-8 encoded characters. To address this issue, I will specify an alternative character encoding when loading the file. A common alternative encoding is 'ISO-8859-1' (Latin-1). Let's try reading the file with this encoding.\n",
      "\n",
      "assistant:\n",
      "The content is successfully loaded into a pandas DataFrame with the correct encoding. Now, I will proceed to determine the state with the most bank failures by aggregating the data based on the state column.\n",
      "\n",
      "Let's count the number of bank failures per state and find out which one has the highest count.\n",
      "\n"
     ]
    }
   ],
   "source": [
    "process_message(\"What State had the most bank failures?\")"
   ]
  },
  {
   "cell_type": "code",
   "execution_count": 19,
   "metadata": {},
   "outputs": [],
   "source": [
    "client.beta.assistants.delete(assistant.id)\n",
    "client.beta.threads.delete(thread.id)\n",
    "for file in assistant_files:\n",
    "    client.files.delete(file.id)"
   ]
  }
 ],
 "metadata": {
  "kernelspec": {
   "display_name": "v31012",
   "language": "python",
   "name": "python3"
  },
  "language_info": {
   "codemirror_mode": {
    "name": "ipython",
    "version": 3
   },
   "file_extension": ".py",
   "mimetype": "text/x-python",
   "name": "python",
   "nbconvert_exporter": "python",
   "pygments_lexer": "ipython3",
   "version": "3.10.12"
  }
 },
 "nbformat": 4,
 "nbformat_minor": 2
}
