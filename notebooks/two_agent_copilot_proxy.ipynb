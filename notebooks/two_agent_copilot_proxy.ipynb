{
 "cells": [
  {
   "cell_type": "markdown",
   "metadata": {},
   "source": [
    "# Two Agent Copilot<br/>with Agent Proxy\n",
    "\n",
    "This is a sample of two Assistants being used as agents in a complex Copilot solution.\n",
    "\n",
    "Agents:\n",
    "- **Sales Agent:** It is implemented with an Assistants API that can perform calculations and can provide the user information customer, sellers, customer orders, and inventory.\n",
    "- **Trading Agent:** It is implemented with an Assistant API with function calling and code interpreter to get the latest stock prices and can provide the user with up to date prices and perform portfolio calculations.\n",
    "\n",
    "Coordination:\n",
    "- **Agent Proxy:** This agent coordinates which agent to call depending on user's intent.\n",
    "\n",
    "Possible messages handling options:\n",
    "1. No handling: a la LLM model\n",
    "2. Manual handling: user write logic to coordinate messages between two agent\n",
    "3. Hybrid: One agent keeps state the other just used as LLM\n",
    "\n",
    "Diagram:\n",
    "\n",
    "![Two agent Assistant Diagram](../images/proxy-two-agent-diagram.png)\n",
    "\n",
    "### Load the required libraries"
   ]
  },
  {
   "cell_type": "code",
   "execution_count": 1,
   "metadata": {},
   "outputs": [],
   "source": [
    "import sales_agent\n",
    "import trading_agent\n",
    "from AgentProxy import AgentProxy\n",
    "from AgentRegistration import AgentRegistration\n",
    "from AgentSettings import AgentSettings\n",
    "from openai import AzureOpenAI"
   ]
  },
  {
   "cell_type": "markdown",
   "metadata": {},
   "source": [
    "### Load the environment variables"
   ]
  },
  {
   "cell_type": "code",
   "execution_count": 2,
   "metadata": {},
   "outputs": [],
   "source": [
    "settings = AgentSettings()"
   ]
  },
  {
   "cell_type": "code",
   "execution_count": 3,
   "metadata": {},
   "outputs": [],
   "source": [
    "client = AzureOpenAI(api_key=settings.api_key,\n",
    "        api_version=settings.api_version,\n",
    "        azure_endpoint=settings.api_endpoint)"
   ]
  },
  {
   "cell_type": "markdown",
   "metadata": {},
   "source": [
    "### Create the AzureOpenAI client"
   ]
  },
  {
   "cell_type": "code",
   "execution_count": 4,
   "metadata": {},
   "outputs": [],
   "source": [
    "trading_agent = trading_agent.get_agent(settings,client)"
   ]
  },
  {
   "cell_type": "code",
   "execution_count": 5,
   "metadata": {},
   "outputs": [
    {
     "name": "stdout",
     "output_type": "stream",
     "text": [
      "data/sales/sellers.csv\n",
      "data/sales/customers.csv\n",
      "data/sales/orders.csv\n",
      "data/sales/inventory.csv\n"
     ]
    }
   ],
   "source": [
    "sales_agent = sales_agent.get_agent(settings,client)"
   ]
  },
  {
   "cell_type": "code",
   "execution_count": 6,
   "metadata": {},
   "outputs": [],
   "source": [
    "sales_agent_registration = AgentRegistration(settings, client, \"SalesIntent\",\"questions or operations related to calculations, customers, sales, orders, inventory, items, and sellers.\",sales_agent)"
   ]
  },
  {
   "cell_type": "code",
   "execution_count": 7,
   "metadata": {},
   "outputs": [],
   "source": [
    "trading_agent_registration = AgentRegistration(settings, client, \"TradingIntent\",\"questions or operations related to trading, stocks, investments, and financial markets.\",trading_agent)"
   ]
  },
  {
   "cell_type": "code",
   "execution_count": 8,
   "metadata": {},
   "outputs": [],
   "source": [
    "proxy = AgentProxy(settings, client, [sales_agent_registration, trading_agent_registration])"
   ]
  },
  {
   "cell_type": "markdown",
   "metadata": {},
   "source": [
    "### Have a conversation with the Assistant"
   ]
  },
  {
   "cell_type": "code",
   "execution_count": 9,
   "metadata": {},
   "outputs": [
    {
     "name": "stdout",
     "output_type": "stream",
     "text": [
      "The speed of light in a vacuum is a fundamental physical constant known as \"c.\" It is approximately 299,792,458 meters per second (about 300,000 kilometers per second or roughly 186,282 miles per second). This speed is used as a standard in the theory of relativity and has implications across many areas of physics. Light travels slightly slower in materials like air, water, and glass due to refraction. The speed of light in various media is a fraction of its speed in a vacuum, depending on the medium's refractive index.\n"
     ]
    }
   ],
   "source": [
    "proxy.process_for_intent(\"Suzan\", \"user_123\", \"What is the speed of light?\")"
   ]
  },
  {
   "cell_type": "code",
   "execution_count": 10,
   "metadata": {},
   "outputs": [
    {
     "name": "stdout",
     "output_type": "stream",
     "text": [
      "processing ...\n",
      "user: John:\n",
      "Chart the products sold by State?\n",
      "\n",
      "assistant:\n",
      "To assist you accurately, I need to examine the content of the uploaded files to find the data referring to products sold by state. I'll start by examining one of the files to identify its format and the relevant data it contains. Let's begin with the first file you uploaded.\n",
      "\n",
      "assistant:\n",
      "The first file contains a list of sellers with their IDs, names, and the state they are associated with. However, it does not include information about products sold. I'll proceed to check the content of the next file to find the necessary data for charting products sold by state. Let's take a look at the second uploaded file.\n",
      "\n",
      "assistant:\n",
      "The second file contains a list of customers with their IDs, names, and the state they are associated with. Like the first file, it does not contain information about products sold. We will need to check the third and fourth files to locate the data on products sold by state. I'll proceed to examine the third uploaded file now.\n",
      "\n",
      "assistant:\n",
      "The third file contains order details such as the Order ID, Customer ID, Seller ID, Item ID, quantity of items sold, and the price. However, this file still does not include the state for each order nor the product details. To chart products sold by state, we'll still need the data specifying the states in which the products were sold along with the product details.\n",
      "\n",
      "I will now examine the fourth and last uploaded file which, hopefully, will provide us with the necessary information to proceed with charting the products sold by state.\n",
      "\n",
      "assistant:\n",
      "The fourth file contains an inventory list with Item IDs and product descriptions. It does not include the state information either.\n",
      "\n",
      "To chart products sold by state, we will need to combine the order details with either the customer or seller state information. It is not immediately clear which state information (seller or customer) should be used for the chart. Could you please specify if the chart should be based on the state of the seller or the customer? Additionally, to provide a meaningful chart, we'll need to know if the quantity sold should be totaled for each state, or if you are interested in the sales revenue (quantity multiplied by price). Please provide this detail so I can proceed accordingly.\n",
      "\n",
      "Deleted thread:  thread_q0aHhO1quIIhTVHEoNt3J6vj\n"
     ]
    }
   ],
   "source": [
    "proxy.process_for_intent(\"John\", \"user_123\", \"Chart the products sold by State?\")"
   ]
  },
  {
   "cell_type": "code",
   "execution_count": 11,
   "metadata": {},
   "outputs": [
    {
     "name": "stdout",
     "output_type": "stream",
     "text": [
      "processing ...\n",
      "Function Calling\n",
      "{'tool_calls': [{'id': 'call_zm8fM8BKS6LQT5wq9hIWZDIH', 'function': {'arguments': '{\"symbol\":\"MSFT\"}', 'name': 'get_stock_price'}, 'type': 'function'}]}\n",
      "Submitting outputs back to the Assistant...\n",
      "user: John:\n",
      "What is the current MSFT price?\n",
      "\n",
      "assistant:\n",
      "The current price of Microsoft Corporation (MSFT) stock is $409.10. If you have any further questions, please feel free to ask.\n",
      "\n",
      "Deleted thread:  thread_oEPrC1L4NY9xIHzmEknPXzez\n"
     ]
    }
   ],
   "source": [
    "proxy.process_for_intent(\"John\", \"user_123\", \"What is the current MSFT price?\")"
   ]
  },
  {
   "cell_type": "markdown",
   "metadata": {},
   "source": [
    "### Cleanup"
   ]
  },
  {
   "cell_type": "code",
   "execution_count": 12,
   "metadata": {},
   "outputs": [
    {
     "name": "stdout",
     "output_type": "stream",
     "text": [
      "AssistantDeleted(id='asst_SHZo8kaVX8UJfQTXpJcRZ4c5', deleted=True, object='assistant.deleted')\n",
      "Deleting:  0  threads.\n",
      "Deleting:  4  files.\n",
      "FileDeleted(id='assistant-4TyzBCcCBSsUczQT9Y9pC8lJ', deleted=True, object='file')\n",
      "FileDeleted(id='assistant-rQiL2gx2aTdw2wbm3nDLGGRR', deleted=True, object='file')\n",
      "FileDeleted(id='assistant-8uSmpBzvqyoSoWXHa8oqhez3', deleted=True, object='file')\n",
      "FileDeleted(id='assistant-1WrEWAC6D7Ghur4FKLyCPADB', deleted=True, object='file')\n",
      "AssistantDeleted(id='asst_QuOuSEhSR98aITtDz9vJyq7U', deleted=True, object='assistant.deleted')\n",
      "Deleting:  0  threads.\n",
      "Deleting:  0  files.\n"
     ]
    }
   ],
   "source": [
    "sales_agent.cleanup()\n",
    "trading_agent.cleanup()"
   ]
  }
 ],
 "metadata": {
  "kernelspec": {
   "display_name": "Python 3 (ipykernel)",
   "language": "python",
   "name": "python3"
  },
  "language_info": {
   "codemirror_mode": {
    "name": "ipython",
    "version": 3
   },
   "file_extension": ".py",
   "mimetype": "text/x-python",
   "name": "python",
   "nbconvert_exporter": "python",
   "pygments_lexer": "ipython3",
   "version": "3.10.12"
  }
 },
 "nbformat": 4,
 "nbformat_minor": 4
}
