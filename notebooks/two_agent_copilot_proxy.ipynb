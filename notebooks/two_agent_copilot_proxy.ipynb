{
 "cells": [
  {
   "cell_type": "markdown",
   "metadata": {},
   "source": [
    "# Two Agent Copilot<br/>with Semantic Intent\n",
    "\n",
    "This is a sample of two Assistants being used as agents in a complex Copilot solution.\n",
    "\n",
    "Agents:\n",
    "- **Sales Agent:** It is implemented with an Assistants API that can perform calculations and can provide the user information customer, sellers, customer orders, and inventory.\n",
    "- **Trading Agent:** It is implemented with an Assistant API with function calling and code interpreter to get the latest stock prices and can provide the user with up to date prices and perform portfolio calculations.\n",
    "\n",
    "Coordination:\n",
    "- **Semantic Intent:** Semantic intent is the component that determines which agent to call\n",
    "\n",
    "Possible messages handling options:\n",
    "1. No handling: a la LLM model\n",
    "2. Manual handling: user write logic to coordinate messages between two agent\n",
    "3. Hybrid: One agent keeps state the other just used as LLM\n",
    "\n",
    "Diagram:\n",
    "\n",
    "![Two agent Assistant Diagram](../images/proxy-two-agent-diagram.png)\n",
    "\n",
    "### Load the required libraries"
   ]
  },
  {
   "cell_type": "code",
   "execution_count": 1,
   "metadata": {},
   "outputs": [],
   "source": [
    "import sales_agent\n",
    "import trading_agent\n",
    "from AgentProxy import AgentProxy\n",
    "from AgentRegistration import AgentRegistration\n",
    "\n",
    "from AgentSettings import AgentSettings\n",
    "from openai import AzureOpenAI"
   ]
  },
  {
   "cell_type": "markdown",
   "metadata": {},
   "source": [
    "### Load the environment variables"
   ]
  },
  {
   "cell_type": "code",
   "execution_count": 2,
   "metadata": {},
   "outputs": [],
   "source": [
    "settings = AgentSettings()"
   ]
  },
  {
   "cell_type": "code",
   "execution_count": 3,
   "metadata": {},
   "outputs": [],
   "source": [
    "client = AzureOpenAI(api_key=settings.api_key,\n",
    "        api_version=settings.api_version,\n",
    "        azure_endpoint=settings.api_endpoint)"
   ]
  },
  {
   "cell_type": "markdown",
   "metadata": {},
   "source": [
    "### Create the AzureOpenAI client"
   ]
  },
  {
   "cell_type": "code",
   "execution_count": 4,
   "metadata": {},
   "outputs": [],
   "source": [
    "trading_agent = trading_agent.get_agent(settings,client)"
   ]
  },
  {
   "cell_type": "code",
   "execution_count": 5,
   "metadata": {},
   "outputs": [
    {
     "name": "stdout",
     "output_type": "stream",
     "text": [
      "data/sales/sellers.csv\n",
      "data/sales/customers.csv\n",
      "data/sales/orders.csv\n",
      "data/sales/inventory.csv\n"
     ]
    }
   ],
   "source": [
    "sales_agent = sales_agent.get_agent(settings,client)"
   ]
  },
  {
   "cell_type": "code",
   "execution_count": 6,
   "metadata": {},
   "outputs": [],
   "source": [
    "reg_sales = AgentRegistration(settings, client, \"SalesIntent\",\"questions or operations related to calculations, customers, sales, orders, inventory, items, and sellers.\",sales_agent)"
   ]
  },
  {
   "cell_type": "code",
   "execution_count": 7,
   "metadata": {},
   "outputs": [],
   "source": [
    "reg_trading = AgentRegistration(settings, client, \"TradingIntent\",\"questions or operations related to trading, stocks, investments, and financial markets.\",trading_agent)"
   ]
  },
  {
   "cell_type": "code",
   "execution_count": 8,
   "metadata": {},
   "outputs": [],
   "source": [
    "proxy = AgentProxy(settings, client, [reg_sales, reg_trading])"
   ]
  },
  {
   "cell_type": "markdown",
   "metadata": {},
   "source": [
    "### Have a conversation with the Assistant"
   ]
  },
  {
   "cell_type": "code",
   "execution_count": 9,
   "metadata": {},
   "outputs": [
    {
     "name": "stdout",
     "output_type": "stream",
     "text": [
      "The speed of light in a vacuum is exactly 299,792,458 meters per second (approximately 186,282 miles per second). This speed is a fundamental constant in physics and is denoted by the letter \"c.\" It is considered one of the most important constants because it plays a crucial role in the theory of relativity and has implications for our understanding of space and time. The speed of light is also the maximum speed at which all energy, matter, and information in the universe can travel.\n"
     ]
    }
   ],
   "source": [
    "proxy.process_for_intent(\"Suzan\", \"user_123\", \"What is the speed of light?\")"
   ]
  },
  {
   "cell_type": "code",
   "execution_count": 10,
   "metadata": {},
   "outputs": [
    {
     "name": "stdout",
     "output_type": "stream",
     "text": [
      "processing ...\n",
      "user: John:\n",
      "Chart the products sold by State?\n",
      "\n",
      "assistant:\n",
      "To chart the products sold by state, I'll first need to inspect the content of the uploaded files to determine if they contain the necessary information, such as product details and state sales data. Once I've located the relevant data, I'll be able to create a chart for you. Let's begin by examining the content of each file.\n",
      "\n",
      "assistant:\n",
      "It seems that there was an internal issue while attempting to process and preview the contents of the files provided. Let's try again to load and preview the data to chart the products sold by state. I will proceed to attempt the loading process one more time.\n",
      "\n",
      "assistant:\n",
      "Unfortunately, there is an ongoing internal issue that is preventing me from loading and previewing the contents of your files. Although I'm currently unable to directly access the contents, you might want to try uploading one file at a time or specify which of the uploaded files contains the data regarding products sold by state.\n",
      "\n",
      "Let's try a different approach. If you can indicate which specific file contains the relevant sales data, I can attempt to load that file individually and proceed from there.\n",
      "\n",
      "Deleted thread:  thread_IiWryoKuL14izLo4b3IMdReK\n"
     ]
    }
   ],
   "source": [
    "proxy.process_for_intent(\"John\", \"user_123\", \"Chart the products sold by State?\")"
   ]
  },
  {
   "cell_type": "code",
   "execution_count": 11,
   "metadata": {},
   "outputs": [
    {
     "name": "stdout",
     "output_type": "stream",
     "text": [
      "processing ...\n",
      "Function Calling\n",
      "{'tool_calls': [{'id': 'call_2bE8FuW5HD60QGpUfTnpMocd', 'function': {'arguments': '{\"symbol\":\"MSFT\"}', 'name': 'get_stock_price'}, 'type': 'function'}]}\n",
      "Submitting outputs back to the Assistant...\n",
      "user: John:\n",
      "What is the current MSFT price?\n",
      "\n",
      "assistant:\n",
      "The current price for Microsoft Corporation (MSFT) stock is $407.72. \n",
      "\n",
      "Do you have any further questions, Jane Doe?\n",
      "\n",
      "Deleted thread:  thread_mSUj78PvcRGgRVjiyQAnHQTl\n"
     ]
    }
   ],
   "source": [
    "proxy.process_for_intent(\"John\", \"user_123\", \"What is the current MSFT price?\")"
   ]
  },
  {
   "cell_type": "markdown",
   "metadata": {},
   "source": [
    "### Cleanup"
   ]
  },
  {
   "cell_type": "code",
   "execution_count": 12,
   "metadata": {},
   "outputs": [
    {
     "name": "stdout",
     "output_type": "stream",
     "text": [
      "AssistantDeleted(id='asst_vWTTT9jcDMWsCkPHPdpbMbKQ', deleted=True, object='assistant.deleted')\n",
      "Deleting:  0  threads.\n",
      "Deleting:  4  files.\n",
      "FileDeleted(id='assistant-3TtbyzcyWbdHMp01lJPwRYjH', deleted=True, object='file')\n",
      "FileDeleted(id='assistant-QjOKKO207KmeYuMOHcL9pcn1', deleted=True, object='file')\n",
      "FileDeleted(id='assistant-WyyI9YKp7ZxLq4AxOfvbM9m2', deleted=True, object='file')\n",
      "FileDeleted(id='assistant-FbICjhXFxGmgkqQ7WZx78bES', deleted=True, object='file')\n",
      "AssistantDeleted(id='asst_oXtrPG7jBkCFXRwWhHkuI7Cp', deleted=True, object='assistant.deleted')\n",
      "Deleting:  0  threads.\n",
      "Deleting:  0  files.\n"
     ]
    }
   ],
   "source": [
    "sales_agent.cleanup()\n",
    "trading_agent.cleanup()"
   ]
  }
 ],
 "metadata": {
  "kernelspec": {
   "display_name": "Python 3 (ipykernel)",
   "language": "python",
   "name": "python3"
  },
  "language_info": {
   "codemirror_mode": {
    "name": "ipython",
    "version": 3
   },
   "file_extension": ".py",
   "mimetype": "text/x-python",
   "name": "python",
   "nbconvert_exporter": "python",
   "pygments_lexer": "ipython3",
   "version": "3.10.12"
  }
 },
 "nbformat": 4,
 "nbformat_minor": 4
}
