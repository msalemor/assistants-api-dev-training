{
 "cells": [
  {
   "cell_type": "markdown",
   "metadata": {},
   "source": [
    "# Personal Finance Scenario - No Assistants API\n",
    "\n",
    "- Get the investments from an investment portfolio\n",
    "- Get the latest stock prices\n",
    "- Calculate the gain/loss for each investment\n",
    "- Email a report\n",
    "\n",
    "## Step 1: Import the required packages\n",
    "\n",
    "- I will not be using SDKs, mostly using the standard packages\n",
    "- Using python-dotenv to load the environment variables"
   ]
  },
  {
   "cell_type": "code",
   "execution_count": 1,
   "metadata": {},
   "outputs": [],
   "source": [
    "import os\n",
    "import common\n",
    "import requests\n",
    "import json\n",
    "import datetime\n",
    "import yfinance as yf\n",
    "from dotenv import load_dotenv"
   ]
  },
  {
   "cell_type": "markdown",
   "metadata": {},
   "source": [
    "## Step 2: Load the environment variables to make calls to the GPT endpoint"
   ]
  },
  {
   "cell_type": "code",
   "execution_count": 2,
   "metadata": {},
   "outputs": [],
   "source": [
    "load_dotenv()\n",
    "common.uri = os.getenv(\"OPENAI_FULL_URI\")\n",
    "common.key = os.getenv(\"OPENAI_KEY\")\n",
    "common.email_URI = os.getenv(\"EMAIL_URI\")"
   ]
  },
  {
   "cell_type": "markdown",
   "metadata": {},
   "source": [
    "## Step 3: Send a simple Prompt via a POST request for Completion\n",
    "\n",
    "- I just want to show that I'm not using any SDKs (no OpenAI, no Semantic Kernel, no LangChain, etc.)"
   ]
  },
  {
   "cell_type": "markdown",
   "metadata": {},
   "source": [
    "### My humble opinion rules\n",
    "\n",
    "1. It is easy to send a Prompt for Completion. What is difficult is the everything else?\n",
    "2. She or he who knows how to Prompt Engineer and stuff the Prompt, gets the riches.\n",
    "3. Customer are looking to show us how to use these services in their projects."
   ]
  },
  {
   "cell_type": "code",
   "execution_count": 9,
   "metadata": {},
   "outputs": [
    {
     "data": {
      "text/plain": [
       "'The speed of light in a vacuum is approximately 299,792,458 meters per second (m/s). This value is considered a fundamental constant of nature and is often rounded to 300,000 kilometers per second (km/s) for convenience in many calculations. The speed of light is denoted by the symbol \"c\" and plays a critical role in the theory of relativity and many other areas of physics.'"
      ]
     },
     "execution_count": 9,
     "metadata": {},
     "output_type": "execute_result"
    }
   ],
   "source": [
    "payload = {\n",
    "    \"messages\": [\n",
    "        {\n",
    "            \"role\": \"user\",\n",
    "            \"content\": \"What is the speed of light?\"\n",
    "        }\n",
    "    \n",
    "    ],\n",
    "    \"max_tokens\": 100,\n",
    "    \"temperature\": 0.2\n",
    "}\n",
    "json_data = common.post_request(common.uri, common.key, payload)\n",
    "json_data[\"choices\"][0][\"message\"][\"content\"]"
   ]
  },
  {
   "cell_type": "markdown",
   "metadata": {},
   "source": [
    "## Step 4: Read the contents of the `data\\portfolio.csv` file"
   ]
  },
  {
   "cell_type": "code",
   "execution_count": 10,
   "metadata": {},
   "outputs": [],
   "source": [
    "def read_file(filePath:str)->str:\n",
    "    with open(filePath, 'r') as file:\n",
    "        # Read the contents of the file\n",
    "        return file.read()\n",
    "file_contents = read_file(\"data/finance/portfolio.csv\")"
   ]
  },
  {
   "cell_type": "markdown",
   "metadata": {},
   "source": [
    "## Step 5: Send a more complex Prompt to extract the ticker, cost, and quantity from the portfolio file"
   ]
  },
  {
   "cell_type": "code",
   "execution_count": 11,
   "metadata": {},
   "outputs": [
    {
     "name": "stdout",
     "output_type": "stream",
     "text": [
      "system:\n",
      "You are a financial assistant that can help provide investment information from a user's investment portfolio.\n",
      "If the question in not related to managing financial investments, say, \"Please contact support for more assistance.\"\n",
      "\n",
      "user:\n",
      "For the following portfolio, extract the ticker symbol, price, and quantity:\n",
      "\n",
      "Portfolio:\n",
      "\n",
      "Symbol,Average_Cost,QTY\n",
      "MSFT,200,300\n",
      "AAPL,114,200\n",
      "AMZN,125,50\n",
      "TSLA,900,100\n",
      "NFLX,540,80\n",
      "NVDA,450,50\n",
      "\n",
      "\n",
      "JSON Output format:\n",
      "\n",
      "[\n",
      "    { \"ticker\": \"AAPL\", \"price\": 146.92, \"quantity\": 10 },\n",
      "    { \"ticker\": \"MSFT\", \"price\": 412.92, \"quantity\": 50 }\n",
      "]\n",
      "\n",
      "\n",
      "Provide the answer in JSON format only. DO NOT provide any comments or explanations. \n",
      "\n",
      "assistant:\n",
      "[\n",
      "    { \"ticker\": \"MSFT\", \"price\": 200, \"quantity\": 300 },\n",
      "    { \"ticker\": \"AAPL\", \"price\": 114, \"quantity\": 200 },\n",
      "    { \"ticker\": \"AMZN\", \"price\": 125, \"quantity\": 50 },\n",
      "    { \"ticker\": \"TSLA\", \"price\": 900, \"quantity\": 100 },\n",
      "    { \"ticker\": \"NFLX\", \"price\": 540, \"quantity\": 80 },\n",
      "    { \"ticker\": \"NVDA\", \"price\": 450, \"quantity\": 50 }\n",
      "]\n"
     ]
    }
   ],
   "source": [
    "prompt_template = \"\"\"system:\n",
    "You are a financial assistant that can help provide investment information from a user's investment portfolio.\n",
    "If the question in not related to managing financial investments, say, \"Please contact support for more assistance.\"\n",
    "\n",
    "user:\n",
    "For the following portfolio, extract the ticker symbol, price, and quantity:\n",
    "\n",
    "Portfolio:\n",
    "\"\"\"\"\"\"\n",
    "<FILE_CONTENTS>\n",
    "\"\"\"\"\"\"\n",
    "\n",
    "JSON Output format:\n",
    "\"\"\"\"\"\"\n",
    "[\n",
    "    { \"ticker\": \"AAPL\", \"price\": 146.92, \"quantity\": 10 },\n",
    "    { \"ticker\": \"MSFT\", \"price\": 412.92, \"quantity\": 50 }\n",
    "]\n",
    "\"\"\"\"\"\"\n",
    "\n",
    "Provide the answer in JSON format only. DO NOT provide any comments or explanations. \n",
    "\"\"\"\n",
    "\n",
    "prompt = prompt_template.replace(\"<FILE_CONTENTS>\", file_contents)\n",
    "\n",
    "print(prompt)\n",
    "\n",
    "json_response = common.process_completion(prompt,500,0.2)\n",
    "print(\"assistant:\")\n",
    "print(json_response)\n",
    "\n",
    "json_data = json.loads(json_response) # Simple Validation"
   ]
  },
  {
   "cell_type": "markdown",
   "metadata": {},
   "source": [
    "## Step 6: Get the latest stock prices, calculate the portfolio value and generate and HTML formatted report"
   ]
  },
  {
   "cell_type": "code",
   "execution_count": 12,
   "metadata": {},
   "outputs": [
    {
     "name": "stdout",
     "output_type": "stream",
     "text": [
      "<h2>Portfolio Report</h2>\n",
      "<p>Date: 02/14/24 13:01:45</p>\n",
      "<table style='width:100%'>\n",
      "<tr><th>Ticker</th><th>Price</th><th>Quantity</th><th>Cost Basis</th><th>Current Value</th><th>Gain/Loss</th></tr>\n",
      "<tr><td>MSFT</td><td>406.76</td><td>300</td><td>60000</td><td>122028.0</td><td>62028.0</td></tr>\n",
      "<tr><td>AAPL</td><td>182.68</td><td>200</td><td>22800</td><td>36536.0</td><td>13736.0</td></tr>\n",
      "<tr><td>AMZN</td><td>169.93</td><td>50</td><td>6250</td><td>8496.5</td><td>2246.5</td></tr>\n",
      "<tr><td>TSLA</td><td>185.95</td><td>100</td><td>90000</td><td>18595.0</td><td>-71405.0</td></tr>\n",
      "<tr><td>NFLX</td><td>574.39</td><td>80</td><td>43200</td><td>45951.2</td><td>2751.2</td></tr>\n",
      "<tr><td>NVDA</td><td>728.55</td><td>50</td><td>22500</td><td>36427.5</td><td>13927.5</td></tr>\n",
      "</table>\n",
      "<h3>Portfolio Value: 268034.2</h3>\n",
      "<h3>Highest Gain: MSFT 62028.0</h3>\n",
      "<h3>Lowest Gain: TSLA -71405.0</h3>\n"
     ]
    }
   ],
   "source": [
    "def calculate_and_generate_table(json_data):\n",
    "    portfolio_value = 0.0\n",
    "    rows = []\n",
    "    rows.append(\"<h2>Portfolio Report</h2>\")\n",
    "    now_str = datetime.datetime.now().strftime(\"%x %X\")\n",
    "    rows.append(f\"<p>Date: {now_str}</p>\")\n",
    "    rows.append(\"<table style='width:100%'>\\n<tr><th>Ticker</th><th>Price</th><th>Quantity</th><th>Cost Basis</th><th>Current Value</th><th>Gain/Loss</th></tr>\")\n",
    "    high = 0\n",
    "    high_ticker = ''\n",
    "    low=0\n",
    "    low_ticker = ''\n",
    "    for item in json_data:\n",
    "        #print(item)        \n",
    "        latest_price = round(common.get_stock_price(item[\"ticker\"]),2)\n",
    "        cost_basis = round(item[\"price\"] * item[\"quantity\"],2)\n",
    "        current_value = round(latest_price * item[\"quantity\"],2)\n",
    "        portfolio_value += current_value\n",
    "        gain_loss = round(current_value - cost_basis,2)\n",
    "        if gain_loss > high:\n",
    "            high = gain_loss\n",
    "            high_ticker = item[\"ticker\"]\n",
    "        if gain_loss < low:\n",
    "            low = gain_loss\n",
    "            low_ticker = item[\"ticker\"]\n",
    "        #print(\"Ticker: \", item[\"ticker\"], \"Price: \", latest_price, \"Quantity: \", item[\"quantity\"], \"Cost Basis: \", cost_basis, \"Current Value: \", current_value, \"Gain/Loss: \", gain_loss)\n",
    "        rows.append(f\"<tr><td>{item['ticker']}</td><td>{latest_price}</td><td>{item['quantity']}</td><td>{cost_basis}</td><td>{current_value}</td><td>{gain_loss}</td></tr>\")\n",
    "    rows.append(\"</table>\")\n",
    "    rows.append(f\"<h3>Portfolio Value: {portfolio_value}</h3>\")\n",
    "    rows.append(f\"<h3>Highest Gain: {high_ticker} {high}</h3>\")\n",
    "    rows.append(f\"<h3>Lowest Gain: {low_ticker} {low}</h3>\")\n",
    "    return '\\n'.join(rows)\n",
    "\n",
    "table = calculate_and_generate_table(json_data)\n",
    "print(table)\n",
    "    "
   ]
  },
  {
   "cell_type": "markdown",
   "metadata": {},
   "source": [
    "## Step 7: Send an HTML formatted report"
   ]
  },
  {
   "cell_type": "code",
   "execution_count": 13,
   "metadata": {},
   "outputs": [
    {
     "name": "stdout",
     "output_type": "stream",
     "text": [
      "Email sent to: alemor@microsoft.com\n"
     ]
    }
   ],
   "source": [
    "common.send_logic_apps_email(\"alemor@microsoft.com\",table)"
   ]
  }
 ],
 "metadata": {
  "kernelspec": {
   "display_name": "v31012",
   "language": "python",
   "name": "python3"
  },
  "language_info": {
   "codemirror_mode": {
    "name": "ipython",
    "version": 3
   },
   "file_extension": ".py",
   "mimetype": "text/x-python",
   "name": "python",
   "nbconvert_exporter": "python",
   "pygments_lexer": "ipython3",
   "version": "3.10.12"
  }
 },
 "nbformat": 4,
 "nbformat_minor": 2
}
