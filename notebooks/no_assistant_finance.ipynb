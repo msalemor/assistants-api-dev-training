{
 "cells": [
  {
   "cell_type": "markdown",
   "metadata": {},
   "source": [
    "# Personal Finance Scenario - No Assistants API\n",
    "\n",
    "- Get the investments from an investment portfolio\n",
    "- Get the latest stock prices\n",
    "- Calculate the gain/loss for each investment\n",
    "- Email a report\n",
    "\n",
    "## Step 1: Import the required packages\n",
    "\n",
    "- I will not be using SDKs, mostly using the standard packages\n",
    "- Using python-dotenv to load the environment variables"
   ]
  },
  {
   "cell_type": "code",
   "execution_count": 1,
   "metadata": {},
   "outputs": [],
   "source": [
    "import os\n",
    "import common\n",
    "import json\n",
    "import datetime\n",
    "from dotenv import load_dotenv"
   ]
  },
  {
   "cell_type": "markdown",
   "metadata": {},
   "source": [
    "## Step 2: Load the environment variables to make calls to the GPT endpoint"
   ]
  },
  {
   "cell_type": "code",
   "execution_count": 2,
   "metadata": {},
   "outputs": [],
   "source": [
    "load_dotenv()\n",
    "common.uri = os.getenv(\"OPENAI_FULL_URI\")\n",
    "common.key = os.getenv(\"OPENAI_KEY\")\n",
    "common.email_URI = os.getenv(\"EMAIL_URI\")"
   ]
  },
  {
   "cell_type": "markdown",
   "metadata": {},
   "source": [
    "## Step 3: Send a simple Prompt via a POST request for Completion\n",
    "\n",
    "- I just want to show that I'm not using any SDKs (no OpenAI, no Semantic Kernel, no LangChain, etc.)"
   ]
  },
  {
   "cell_type": "code",
   "execution_count": 3,
   "metadata": {},
   "outputs": [
    {
     "data": {
      "text/plain": [
       "'The speed of light in a vacuum is exactly 299,792,458 meters per second (approximately 186,282 miles per second). This speed is considered a fundamental constant of nature and is denoted by the letter \"c\" in physics equations, most famously in Einstein\\'s equation E=mc^2, which relates energy (E) to mass (m) with the speed of light (c) as the proportionality constant. The speed of light is not just the speed at which light'"
      ]
     },
     "execution_count": 3,
     "metadata": {},
     "output_type": "execute_result"
    }
   ],
   "source": [
    "payload = {\n",
    "    \"messages\": [\n",
    "        {\n",
    "            \"role\": \"user\",\n",
    "            \"content\": \"What is the speed of light?\"\n",
    "        }\n",
    "    \n",
    "    ],\n",
    "    \"max_tokens\": 100,\n",
    "    \"temperature\": 0.2\n",
    "}\n",
    "json_data = common.post_request(common.uri, common.key, payload)\n",
    "json_data[\"choices\"][0][\"message\"][\"content\"]"
   ]
  },
  {
   "cell_type": "markdown",
   "metadata": {},
   "source": [
    "## Step 4: Read the contents of the `data\\portfolio.csv` file"
   ]
  },
  {
   "cell_type": "code",
   "execution_count": 5,
   "metadata": {},
   "outputs": [],
   "source": [
    "def read_file(filePath:str)->str:\n",
    "    with open(filePath, 'r') as file:\n",
    "        # Read the contents of the file\n",
    "        return file.read()\n",
    "file_contents = read_file(\"data/finance/portfolio.csv\")"
   ]
  },
  {
   "cell_type": "markdown",
   "metadata": {},
   "source": [
    "## Step 5: Send a more complex Prompt to extract the ticker, cost, and quantity from the portfolio file"
   ]
  },
  {
   "cell_type": "code",
   "execution_count": 6,
   "metadata": {},
   "outputs": [
    {
     "name": "stdout",
     "output_type": "stream",
     "text": [
      "system:\n",
      "You are a financial assistant that can help provide investment information from a user's investment portfolio.\n",
      "If the question in not related to managing financial investments, say, \"Please contact support for more assistance.\"\n",
      "\n",
      "user:\n",
      "For the following portfolio, extract the ticker symbol, price, and quantity:\n",
      "\n",
      "Portfolio:\n",
      "\n",
      "Symbol,Average_Cost,QTY\n",
      "MSFT,200,300\n",
      "AAPL,114,200\n",
      "AMZN,125,50\n",
      "TSLA,900,100\n",
      "NFLX,540,80\n",
      "NVDA,450,50\n",
      "\n",
      "\n",
      "JSON Output format:\n",
      "\n",
      "[\n",
      "    { \"ticker\": \"AAPL\", \"price\": 146.92, \"quantity\": 10 },\n",
      "    { \"ticker\": \"MSFT\", \"price\": 412.92, \"quantity\": 50 }\n",
      "]\n",
      "\n",
      "\n",
      "Provide the answer in JSON format only. DO NOT provide any comments or explanations. \n",
      "\n",
      "assistant:\n",
      "[\n",
      "    { \"ticker\": \"MSFT\", \"price\": 200, \"quantity\": 300 },\n",
      "    { \"ticker\": \"AAPL\", \"price\": 114, \"quantity\": 200 },\n",
      "    { \"ticker\": \"AMZN\", \"price\": 125, \"quantity\": 50 },\n",
      "    { \"ticker\": \"TSLA\", \"price\": 900, \"quantity\": 100 },\n",
      "    { \"ticker\": \"NFLX\", \"price\": 540, \"quantity\": 80 },\n",
      "    { \"ticker\": \"NVDA\", \"price\": 450, \"quantity\": 50 }\n",
      "]\n"
     ]
    }
   ],
   "source": [
    "prompt_template = \"\"\"system:\n",
    "You are a financial assistant that can help provide investment information from a user's investment portfolio.\n",
    "If the question in not related to managing financial investments, say, \"Please contact support for more assistance.\"\n",
    "\n",
    "user:\n",
    "For the following portfolio, extract the ticker symbol, price, and quantity:\n",
    "\n",
    "Portfolio:\n",
    "\"\"\"\"\"\"\n",
    "<FILE_CONTENTS>\n",
    "\"\"\"\"\"\"\n",
    "\n",
    "JSON Output format:\n",
    "\"\"\"\"\"\"\n",
    "[\n",
    "    { \"ticker\": \"AAPL\", \"price\": 146.92, \"quantity\": 10 },\n",
    "    { \"ticker\": \"MSFT\", \"price\": 412.92, \"quantity\": 50 }\n",
    "]\n",
    "\"\"\"\"\"\"\n",
    "\n",
    "Provide the answer in JSON format only. DO NOT provide any comments or explanations. \n",
    "\"\"\"\n",
    "\n",
    "prompt = prompt_template.replace(\"<FILE_CONTENTS>\", file_contents)\n",
    "\n",
    "print(prompt)\n",
    "\n",
    "json_response = common.process_completion(prompt,500,0.2)\n",
    "print(\"assistant:\")\n",
    "print(json_response)\n",
    "\n",
    "json_data = json.loads(json_response) # Simple Validation"
   ]
  },
  {
   "cell_type": "markdown",
   "metadata": {},
   "source": [
    "## Step 6: Get the latest stock prices, calculate the portfolio value and generate and HTML formatted report"
   ]
  },
  {
   "cell_type": "code",
   "execution_count": 7,
   "metadata": {},
   "outputs": [
    {
     "name": "stdout",
     "output_type": "stream",
     "text": [
      "<h2>Portfolio Report</h2>\n",
      "<p>Date: 02/12/24 15:57:15</p>\n",
      "<table style='width:100%'>\n",
      "<tr><th>Ticker</th><th>Price</th><th>Quantity</th><th>Cost Basis</th><th>Current Value</th><th>Gain/Loss</th></tr>\n",
      "<tr><td>MSFT</td><td>414.95</td><td>300</td><td>60000</td><td>124485.0</td><td>64485.0</td></tr>\n",
      "<tr><td>AAPL</td><td>186.96</td><td>200</td><td>22800</td><td>37392.0</td><td>14592.0</td></tr>\n",
      "<tr><td>AMZN</td><td>172.22</td><td>50</td><td>6250</td><td>8611.0</td><td>2361.0</td></tr>\n",
      "<tr><td>TSLA</td><td>187.91</td><td>100</td><td>90000</td><td>18791.0</td><td>-71209.0</td></tr>\n",
      "<tr><td>NFLX</td><td>557.71</td><td>80</td><td>43200</td><td>44616.8</td><td>1416.8</td></tr>\n",
      "<tr><td>NVDA</td><td>723.06</td><td>50</td><td>22500</td><td>36153.0</td><td>13653.0</td></tr>\n",
      "</table>\n",
      "<h3>Portfolio Value: 270048.8</h3>\n",
      "<h3>Highest Gain: MSFT 64485.0</h3>\n",
      "<h3>Lowest Gain: TSLA -71209.0</h3>\n"
     ]
    }
   ],
   "source": [
    "def calculate_and_generate_table(json_data):\n",
    "    portfolio_value = 0.0\n",
    "    rows = []\n",
    "    rows.append(\"<h2>Portfolio Report</h2>\")\n",
    "    now_str = datetime.datetime.now().strftime(\"%x %X\")\n",
    "    rows.append(f\"<p>Date: {now_str}</p>\")\n",
    "    rows.append(\"<table style='width:100%'>\\n<tr><th>Ticker</th><th>Price</th><th>Quantity</th><th>Cost Basis</th><th>Current Value</th><th>Gain/Loss</th></tr>\")\n",
    "    high = 0\n",
    "    high_ticker = ''\n",
    "    low=0\n",
    "    low_ticker = ''\n",
    "    for item in json_data:\n",
    "        #print(item)        \n",
    "        latest_price = round(common.get_stock_price(item[\"ticker\"]),2)\n",
    "        cost_basis = round(item[\"price\"] * item[\"quantity\"],2)\n",
    "        current_value = round(latest_price * item[\"quantity\"],2)\n",
    "        portfolio_value += current_value\n",
    "        gain_loss = round(current_value - cost_basis,2)\n",
    "        if gain_loss > high:\n",
    "            high = gain_loss\n",
    "            high_ticker = item[\"ticker\"]\n",
    "        if gain_loss < low:\n",
    "            low = gain_loss\n",
    "            low_ticker = item[\"ticker\"]\n",
    "        #print(\"Ticker: \", item[\"ticker\"], \"Price: \", latest_price, \"Quantity: \", item[\"quantity\"], \"Cost Basis: \", cost_basis, \"Current Value: \", current_value, \"Gain/Loss: \", gain_loss)\n",
    "        rows.append(f\"<tr><td>{item['ticker']}</td><td>{latest_price}</td><td>{item['quantity']}</td><td>{cost_basis}</td><td>{current_value}</td><td>{gain_loss}</td></tr>\")\n",
    "    rows.append(\"</table>\")\n",
    "    rows.append(f\"<h3>Portfolio Value: {portfolio_value}</h3>\")\n",
    "    rows.append(f\"<h3>Highest Gain: {high_ticker} {high}</h3>\")\n",
    "    rows.append(f\"<h3>Lowest Gain: {low_ticker} {low}</h3>\")\n",
    "    return '\\n'.join(rows)\n",
    "\n",
    "table = calculate_and_generate_table(json_data)\n",
    "print(table)\n",
    "    "
   ]
  },
  {
   "cell_type": "markdown",
   "metadata": {},
   "source": [
    "## Step 7: Send an HTML formatted report"
   ]
  },
  {
   "cell_type": "code",
   "execution_count": null,
   "metadata": {},
   "outputs": [],
   "source": [
    "common.send_logic_apps_email(\"alemor@microsoft.com\",table)"
   ]
  }
 ],
 "metadata": {
  "kernelspec": {
   "display_name": "v31012",
   "language": "python",
   "name": "python3"
  },
  "language_info": {
   "codemirror_mode": {
    "name": "ipython",
    "version": 3
   },
   "file_extension": ".py",
   "mimetype": "text/x-python",
   "name": "python",
   "nbconvert_exporter": "python",
   "pygments_lexer": "ipython3",
   "version": "3.10.12"
  }
 },
 "nbformat": 4,
 "nbformat_minor": 2
}
