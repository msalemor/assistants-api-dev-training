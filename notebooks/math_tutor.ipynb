{
 "cells": [
  {
   "cell_type": "markdown",
   "metadata": {},
   "source": [
    "## Math Tutor\n",
    "\n",
    "Reference:\n",
    "- [OpenAI Reference Sample - Math Tutor](https://github.com/openai/openai-python/blob/main/examples/assistant.py)"
   ]
  },
  {
   "cell_type": "code",
   "execution_count": null,
   "metadata": {},
   "outputs": [],
   "source": [
    "import time\n",
    "import os\n",
    "from dotenv import load_dotenv\n",
    "\n",
    "from openai import AzureOpenAI\n",
    "\n",
    "# gets API Key from environment variable OPENAI_API_KEY\n",
    "load_dotenv()\n",
    "api_endpoint = os.getenv(\"OPENAI_URI\")\n",
    "api_key = os.getenv(\"OPENAI_KEY\")\n",
    "api_version = os.getenv(\"OPENAI_VERSION\")\n",
    "api_deployment_name = os.getenv(\"OPENAI_GPT_DEPLOYMENT\")\n",
    "\n",
    "\n",
    "client = AzureOpenAI(api_key=api_key,\n",
    "api_version=api_version,\n",
    "azure_endpoint=api_endpoint)"
   ]
  },
  {
   "cell_type": "code",
   "execution_count": null,
   "metadata": {},
   "outputs": [],
   "source": [
    "assistant = None\n",
    "print(api_deployment_name)\n",
    "try:\n",
    "    assistant = client.beta.assistants.create(\n",
    "    name=\"Math Tutor\",\n",
    "    instructions=\"You are a personal math tutor. Write and run code to answer math questions.\",\n",
    "    tools=[{\"type\": \"code_interpreter\"}],\n",
    "    model=api_deployment_name,\n",
    ")\n",
    "except Exception as e:\n",
    "    print(e)\n",
    "\n",
    "thread = client.beta.threads.create()\n",
    "\n",
    "message = client.beta.threads.messages.create(\n",
    "    thread_id=thread.id,\n",
    "    role=\"user\",\n",
    "    content=\"I need to solve the equation `3x + 11 = 14`. Can you help me?\",\n",
    ")\n",
    "\n",
    "run = client.beta.threads.runs.create(\n",
    "    thread_id=thread.id,\n",
    "    assistant_id=assistant.id,\n",
    "    instructions=\"Please address the user as Jane Doe. The user has a premium account.\",\n",
    ")\n",
    "\n",
    "print(\"checking assistant status. \")\n",
    "while True:\n",
    "    run = client.beta.threads.runs.retrieve(thread_id=thread.id, run_id=run.id)\n",
    "\n",
    "    if run.status == \"completed\":\n",
    "        print(\"done!\")\n",
    "        messages = client.beta.threads.messages.list(thread_id=thread.id)\n",
    "\n",
    "        print(\"messages: \")\n",
    "        for message in messages:\n",
    "            assert message.content[0].type == \"text\"\n",
    "            print({\"role\": message.role, \"message\": message.content[0].text.value})\n",
    "\n",
    "        # Clean up\n",
    "        client.beta.assistants.delete(assistant.id)\n",
    "        client.beta.threads.delete(thread.id)\n",
    "\n",
    "        break\n",
    "    else:\n",
    "        print(\"in progress...\")\n",
    "        time.sleep(5)"
   ]
  }
 ],
 "metadata": {
  "kernelspec": {
   "display_name": "v31012",
   "language": "python",
   "name": "python3"
  },
  "language_info": {
   "codemirror_mode": {
    "name": "ipython",
    "version": 3
   },
   "file_extension": ".py",
   "mimetype": "text/x-python",
   "name": "python",
   "nbconvert_exporter": "python",
   "pygments_lexer": "ipython3",
   "version": "3.10.12"
  }
 },
 "nbformat": 4,
 "nbformat_minor": 2
}
